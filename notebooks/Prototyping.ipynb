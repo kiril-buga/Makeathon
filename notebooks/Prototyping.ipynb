{
 "cells": [
  {
   "metadata": {},
   "cell_type": "markdown",
   "source": "# Set up the LLM",
   "id": "6e379c84827bc54b"
  },
  {
   "metadata": {},
   "cell_type": "markdown",
   "source": "## Set Tokens and Environment Variables",
   "id": "360cc35659d65969"
  },
  {
   "metadata": {
    "ExecuteTime": {
     "end_time": "2024-10-19T13:36:58.841113Z",
     "start_time": "2024-10-19T13:36:58.766643Z"
    }
   },
   "cell_type": "code",
   "source": [
    "import os\n",
    "\n",
    "from dotenv import load_dotenv\n",
    "\n",
    "\n",
    "# Import Environment Variables\n",
    "def set_tokens():\n",
    "    global HUGGINGFACEHUB_API_TOKEN\n",
    "    global GROQ_API_KEY\n",
    "    load_dotenv()\n",
    "    if os.getenv(\"HUGGINGFACEHUB_API_TOKEN\") is not None:\n",
    "        HUGGINGFACEHUB_API_TOKEN = os.getenv(\"HUGGINGFACEHUB_API_TOKEN\")\n",
    "        print(f\"Token is added\")\n",
    "    if os.getenv(\"GROQ_API_KEY\") is not None:\n",
    "        GROQ_API_KEY = os.environ[\"GROQ_API_KEY\"]\n",
    "    if (os.getenv(\"AZURE_OPENAI_ENDPOINT\") is not None\n",
    "            or os.getenv(\"AZURE_OPENAI_API_KEY\") is not None):\n",
    "        AZURE_OPENAI_ENDPOINT = os.environ[\"AZURE_OPENAI_ENDPOINT\"]\n",
    "        AZUER_OPENAI_API_KEY = os.environ[\"AZURE_OPENAI_API_KEY\"]\n",
    "    else:\n",
    "        raise Exception(\"No API Token Provided!\")\n",
    "\n",
    "\n",
    "set_tokens()"
   ],
   "id": "e54a6b98922e9560",
   "outputs": [
    {
     "name": "stdout",
     "output_type": "stream",
     "text": [
      "Token is added\n"
     ]
    }
   ],
   "execution_count": 7
  },
  {
   "metadata": {},
   "cell_type": "markdown",
   "source": "### Use the LLM with the API",
   "id": "c181bc684b94a7ef"
  },
  {
   "cell_type": "code",
   "id": "initial_id",
   "metadata": {
    "collapsed": true,
    "ExecuteTime": {
     "end_time": "2024-10-19T13:37:30.108960Z",
     "start_time": "2024-10-19T13:37:29.125403Z"
    }
   },
   "source": [
    "from langchain_groq import ChatGroq\n",
    "from langchain_openai import AzureChatOpenAI\n",
    "\n",
    "\n",
    "def use_groq(_model):\n",
    "    return ChatGroq(\n",
    "        model=_model,\n",
    "        #temperature=_temperature,\n",
    "        #max_tokens=_max_new_tokens,\n",
    "        timeout=None,\n",
    "        max_retries=5,\n",
    "        api_key=GROQ_API_KEY,\n",
    "        # other params...\n",
    "    )\n",
    "\n",
    "\n",
    "def use_azure(_model, _temperature):\n",
    "    return AzureChatOpenAI(\n",
    "        azure_deployment=_model,  # or your deployment\n",
    "        api_version=\"2023-06-01-preview\",  # or your api version\n",
    "        temperature=_temperature,\n",
    "        max_tokens=None,\n",
    "        timeout=None,\n",
    "        max_retries=5,\n",
    "        # other params...\n",
    "    )\n",
    "\n",
    "\n",
    "llm = use_groq(\"llama-3.2-1b-preview\")"
   ],
   "outputs": [],
   "execution_count": 11
  },
  {
   "metadata": {
    "ExecuteTime": {
     "end_time": "2024-10-19T13:37:31.154754Z",
     "start_time": "2024-10-19T13:37:30.800332Z"
    }
   },
   "cell_type": "code",
   "source": "llm.invoke(\"Hello, how are you?\")",
   "id": "e914170b1102671d",
   "outputs": [
    {
     "data": {
      "text/plain": [
       "AIMessage(content=\"I'm doing well, thank you for asking. I'm a large language model, so I don't have feelings or emotions like humans do, but I'm here to help you with any questions or topics you'd like to discuss. How about you? How's your day going so far?\", additional_kwargs={}, response_metadata={'token_usage': {'completion_tokens': 60, 'prompt_tokens': 41, 'total_tokens': 101, 'completion_time': 0.017410487, 'prompt_time': 0.012027968, 'queue_time': 0.0012150300000000006, 'total_time': 0.029438455}, 'model_name': 'llama-3.2-1b-preview', 'system_fingerprint': 'fp_e9a4952513', 'finish_reason': 'stop', 'logprobs': None}, id='run-e47ef036-9a24-40cd-bbac-4f2fb85279af-0', usage_metadata={'input_tokens': 41, 'output_tokens': 60, 'total_tokens': 101})"
      ]
     },
     "execution_count": 12,
     "metadata": {},
     "output_type": "execute_result"
    }
   ],
   "execution_count": 12
  },
  {
   "metadata": {},
   "cell_type": "code",
   "outputs": [],
   "execution_count": null,
   "source": "",
   "id": "9256891e9bc2b5ef"
  }
 ],
 "metadata": {
  "kernelspec": {
   "display_name": "Python 3",
   "language": "python",
   "name": "python3"
  },
  "language_info": {
   "codemirror_mode": {
    "name": "ipython",
    "version": 2
   },
   "file_extension": ".py",
   "mimetype": "text/x-python",
   "name": "python",
   "nbconvert_exporter": "python",
   "pygments_lexer": "ipython2",
   "version": "2.7.6"
  }
 },
 "nbformat": 4,
 "nbformat_minor": 5
}
