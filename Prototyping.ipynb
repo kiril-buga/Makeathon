{
 "cells": [
  {
   "metadata": {},
   "cell_type": "markdown",
   "source": "# Set up the LLM",
   "id": "6e379c84827bc54b"
  },
  {
   "metadata": {},
   "cell_type": "markdown",
   "source": "## Set Tokens and Environment Variables",
   "id": "360cc35659d65969"
  },
  {
   "metadata": {},
   "cell_type": "code",
   "outputs": [],
   "execution_count": null,
   "source": [
    "import os\n",
    "from dotenv import load_dotenv\n",
    "\n",
    "# Import Environment Variables\n",
    "def set_tokens():\n",
    "    global HUGGINGFACEHUB_API_TOKEN\n",
    "    global GROQ_API_KEY\n",
    "    load_dotenv()\n",
    "    if os.getenv(\"HUGGINGFACEHUB_API_TOKEN\") is not None:\n",
    "        HUGGINGFACEHUB_API_TOKEN = os.getenv(\"HUGGINGFACEHUB_API_TOKEN\")\n",
    "        print(f\"Token is added\")\n",
    "    if os.getenv(\"GROQ_API_KEY\") is not None:\n",
    "        GROQ_API_KEY = os.environ[\"GROQ_API_KEY\"]\n",
    "     if (os.getenv(\"AZURE_OPENAI_ENDPOINT\") is not None \n",
    "            or os.getenv(\"AZURE_OPENAI_API_KEY\") is not None):\n",
    "        AZURE_OPENAI_ENDPOINT = os.environ[\"AZURE_OPENAI_ENDPOINT\"]\n",
    "        AZUER_OPENAI_API_KEY = os.environ[\"AZURE_OPENAI_API_KEY\"]\n",
    "    else:\n",
    "        raise Exception(\"No API Token Provided!\")\n",
    "\n",
    "\n",
    "set_tokens()"
   ],
   "id": "e54a6b98922e9560"
  },
  {
   "metadata": {},
   "cell_type": "markdown",
   "source": "### Use the LLM with the API",
   "id": "c181bc684b94a7ef"
  },
  {
   "cell_type": "code",
   "execution_count": null,
   "id": "initial_id",
   "metadata": {
    "collapsed": true
   },
   "outputs": [],
   "source": [
    "from langchain_groq import ChatGroq\n",
    "from langchain_openai import AzureChatOpenAI\n",
    "\n",
    "def use_groq(_model, _temperature, _max_new_tokens):\n",
    "    return ChatGroq(\n",
    "        model=_model,\n",
    "        temperature=_temperature,\n",
    "        max_tokens=_max_new_tokens,\n",
    "        timeout=None,\n",
    "        max_retries=5,\n",
    "        api_key=GROQ_API_KEY,\n",
    "        # other params...\n",
    "    )\n",
    "def use_azure(_model, _temperature):\n",
    "    return AzureChatOpenAI(\n",
    "        azure_deployment=_model,  # or your deployment\n",
    "        api_version=\"2023-06-01-preview\",  # or your api version\n",
    "        temperature=_temperature,\n",
    "        max_tokens=None,\n",
    "        timeout=None,\n",
    "        max_retries=5,\n",
    "        # other params...\n",
    "    )"
   ]
  },
  {
   "metadata": {},
   "cell_type": "code",
   "outputs": [],
   "execution_count": null,
   "source": "",
   "id": "e914170b1102671d"
  },
  {
   "metadata": {},
   "cell_type": "code",
   "outputs": [],
   "execution_count": null,
   "source": "",
   "id": "9256891e9bc2b5ef"
  }
 ],
 "metadata": {
  "kernelspec": {
   "display_name": "Python 3",
   "language": "python",
   "name": "python3"
  },
  "language_info": {
   "codemirror_mode": {
    "name": "ipython",
    "version": 2
   },
   "file_extension": ".py",
   "mimetype": "text/x-python",
   "name": "python",
   "nbconvert_exporter": "python",
   "pygments_lexer": "ipython2",
   "version": "2.7.6"
  }
 },
 "nbformat": 4,
 "nbformat_minor": 5
}
